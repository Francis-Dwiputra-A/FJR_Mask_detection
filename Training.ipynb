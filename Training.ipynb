{
 "cells": [
  {
   "cell_type": "code",
   "execution_count": 1,
   "id": "e9a6c70f",
   "metadata": {},
   "outputs": [],
   "source": [
    "from tensorflow.keras.preprocessing.image import ImageDataGenerator\n",
    "from tensorflow.keras.optimizers import Adam\n",
    "from tensorflow.keras.preprocessing.image import img_to_array\n",
    "from tensorflow.keras.utils import to_categorical, plot_model\n",
    "from tensorflow.keras.models import Sequential\n",
    "from tensorflow.keras.layers import BatchNormalization, Conv2D, MaxPooling2D, Activation, Flatten, Dropout, Dense\n",
    "from tensorflow.keras import backend as K\n",
    "from sklearn.model_selection import train_test_split\n",
    "import matplotlib.pyplot as plt\n",
    "import numpy as np\n",
    "import random\n",
    "import cv2\n",
    "import os\n",
    "import glob"
   ]
  },
  {
   "cell_type": "code",
   "execution_count": 2,
   "id": "e58ec770",
   "metadata": {},
   "outputs": [],
   "source": [
    "epochs = 100\n",
    "lr = 1e-3\n",
    "batch_size = 64\n",
    "img_dims = (96,96,3)\n",
    "\n",
    "data = []\n",
    "labels = []"
   ]
  },
  {
   "cell_type": "code",
   "execution_count": 3,
   "id": "e9d16345",
   "metadata": {},
   "outputs": [],
   "source": [
    "image_files = [f for f in glob.glob('dataset_new/**/*', recursive=True) if not os.path.isdir(f)]\n",
    "random.shuffle(image_files)"
   ]
  },
  {
   "cell_type": "code",
   "execution_count": 4,
   "id": "3fb1658b",
   "metadata": {},
   "outputs": [
    {
     "data": {
      "text/plain": [
       "4230"
      ]
     },
     "execution_count": 4,
     "metadata": {},
     "output_type": "execute_result"
    }
   ],
   "source": [
    "len(image_files)"
   ]
  },
  {
   "cell_type": "code",
   "execution_count": 5,
   "id": "7664f12f",
   "metadata": {},
   "outputs": [],
   "source": [
    "for img in image_files:\n",
    "\n",
    "    image = cv2.imread(img)\n",
    "    try:\n",
    "        image = cv2.resize(image, (img_dims[0],img_dims[1]))\n",
    "        image = img_to_array(image)\n",
    "        data.append(image)\n",
    "    except Exception as e:\n",
    "        continue\n",
    "    label = img.split(os.path.sep)[-2] # dataset\\without_mask\\face_1162.jpg\n",
    "    if label == \"without_mask\":\n",
    "        label = 1\n",
    "    else:\n",
    "        label = 0\n",
    "        \n",
    "    labels.append([label])"
   ]
  },
  {
   "cell_type": "code",
   "execution_count": 6,
   "id": "20ddc1a2",
   "metadata": {},
   "outputs": [],
   "source": [
    "data = np.array(data, dtype=\"float\") / 255.0\n",
    "labels = np.array(labels)"
   ]
  },
  {
   "cell_type": "code",
   "execution_count": 7,
   "id": "e0b51fad",
   "metadata": {},
   "outputs": [],
   "source": [
    "(trainX, testX, trainY, testY) = train_test_split(data, labels, test_size=0.2,\n",
    "                                                  random_state=42)\n",
    "\n",
    "trainY = to_categorical(trainY, num_classes=2) # [[1, 0], [0, 1], [0, 1], ...]\n",
    "testY = to_categorical(testY, num_classes=2)"
   ]
  },
  {
   "cell_type": "code",
   "execution_count": 8,
   "id": "480866ec",
   "metadata": {},
   "outputs": [],
   "source": [
    "aug = ImageDataGenerator(rotation_range=25, width_shift_range=0.1,\n",
    "                         height_shift_range=0.1, shear_range=0.2, zoom_range=0.2,\n",
    "                         horizontal_flip=True, fill_mode=\"nearest\")"
   ]
  },
  {
   "cell_type": "code",
   "execution_count": 9,
   "id": "333ce02c",
   "metadata": {},
   "outputs": [],
   "source": [
    "def build(width, height, depth, classes):\n",
    "    model = Sequential()\n",
    "    inputShape = (height, width, depth)\n",
    "    chanDim = -1\n",
    "\n",
    "    if K.image_data_format() == \"channels_first\": \n",
    "        inputShape = (depth, height, width)\n",
    "        chanDim = 1\n",
    "\n",
    "    model.add(Conv2D(32, (3,3), padding=\"same\", input_shape=inputShape))\n",
    "    model.add(Activation(\"relu\"))\n",
    "    model.add(BatchNormalization(axis=chanDim))\n",
    "    model.add(MaxPooling2D(pool_size=(3,3)))\n",
    "    model.add(Dropout(0.25))\n",
    "\n",
    "    model.add(Conv2D(64, (3,3), padding=\"same\"))\n",
    "    model.add(Activation(\"relu\"))\n",
    "    model.add(BatchNormalization(axis=chanDim))\n",
    "\n",
    "    model.add(Conv2D(64, (3,3), padding=\"same\"))\n",
    "    model.add(Activation(\"relu\"))\n",
    "    model.add(BatchNormalization(axis=chanDim))\n",
    "    model.add(MaxPooling2D(pool_size=(2,2)))\n",
    "    model.add(Dropout(0.25))\n",
    "\n",
    "    model.add(Conv2D(128, (3,3), padding=\"same\"))\n",
    "    model.add(Activation(\"relu\"))\n",
    "    model.add(BatchNormalization(axis=chanDim))\n",
    "\n",
    "    model.add(Conv2D(128, (3,3), padding=\"same\"))\n",
    "    model.add(Activation(\"relu\"))\n",
    "    model.add(BatchNormalization(axis=chanDim))\n",
    "    model.add(MaxPooling2D(pool_size=(2,2)))\n",
    "    model.add(Dropout(0.25))\n",
    "\n",
    "    model.add(Flatten())\n",
    "    model.add(Dense(1024))\n",
    "    model.add(Activation(\"relu\"))\n",
    "    model.add(BatchNormalization())\n",
    "    model.add(Dropout(0.5))\n",
    "\n",
    "    model.add(Dense(classes))\n",
    "    model.add(Activation(\"sigmoid\"))\n",
    "\n",
    "    return model\n"
   ]
  },
  {
   "cell_type": "code",
   "execution_count": 10,
   "id": "2c191e49",
   "metadata": {},
   "outputs": [
    {
     "name": "stderr",
     "output_type": "stream",
     "text": [
      "c:\\users\\francis\\appdata\\local\\programs\\python\\python38\\lib\\site-packages\\tensorflow\\python\\keras\\optimizer_v2\\optimizer_v2.py:367: UserWarning: The `lr` argument is deprecated, use `learning_rate` instead.\n",
      "  warnings.warn(\n"
     ]
    }
   ],
   "source": [
    "model = build(width=img_dims[0], height=img_dims[1], depth=img_dims[2],\n",
    "                            classes=2)\n",
    "\n",
    "# compile the model\n",
    "opt = Adam(lr=lr, decay=lr/epochs)\n",
    "model.compile(loss=\"binary_crossentropy\", optimizer=opt, metrics=[\"accuracy\"])"
   ]
  },
  {
   "cell_type": "code",
   "execution_count": 11,
   "id": "4a11a114",
   "metadata": {},
   "outputs": [
    {
     "name": "stderr",
     "output_type": "stream",
     "text": [
      "c:\\users\\francis\\appdata\\local\\programs\\python\\python38\\lib\\site-packages\\tensorflow\\python\\keras\\engine\\training.py:1963: UserWarning: `Model.fit_generator` is deprecated and will be removed in a future version. Please use `Model.fit`, which supports generators.\n",
      "  warnings.warn('`Model.fit_generator` is deprecated and '\n"
     ]
    },
    {
     "name": "stdout",
     "output_type": "stream",
     "text": [
      "Epoch 1/100\n",
      "52/52 [==============================] - 34s 628ms/step - loss: 0.4550 - accuracy: 0.8516 - val_loss: 1.2302 - val_accuracy: 0.6520\n",
      "Epoch 2/100\n",
      "52/52 [==============================] - 33s 636ms/step - loss: 0.2604 - accuracy: 0.9076 - val_loss: 0.7031 - val_accuracy: 0.6615\n",
      "Epoch 3/100\n",
      "52/52 [==============================] - 33s 635ms/step - loss: 0.2114 - accuracy: 0.9291 - val_loss: 0.6186 - val_accuracy: 0.7067\n",
      "Epoch 4/100\n",
      "52/52 [==============================] - 30s 581ms/step - loss: 0.1886 - accuracy: 0.9376 - val_loss: 0.9441 - val_accuracy: 0.7185\n",
      "Epoch 5/100\n",
      "52/52 [==============================] - 30s 580ms/step - loss: 0.1815 - accuracy: 0.9355 - val_loss: 1.0781 - val_accuracy: 0.7482\n",
      "Epoch 6/100\n",
      "52/52 [==============================] - 30s 582ms/step - loss: 0.1431 - accuracy: 0.9461 - val_loss: 0.5911 - val_accuracy: 0.8492\n",
      "Epoch 7/100\n",
      "52/52 [==============================] - 30s 581ms/step - loss: 0.1454 - accuracy: 0.9494 - val_loss: 0.4762 - val_accuracy: 0.8551\n",
      "Epoch 8/100\n",
      "52/52 [==============================] - 30s 581ms/step - loss: 0.1299 - accuracy: 0.9531 - val_loss: 0.3577 - val_accuracy: 0.8884\n",
      "Epoch 9/100\n",
      "52/52 [==============================] - 30s 583ms/step - loss: 0.1135 - accuracy: 0.9576 - val_loss: 0.7408 - val_accuracy: 0.8480\n",
      "Epoch 10/100\n",
      "52/52 [==============================] - 31s 590ms/step - loss: 0.1101 - accuracy: 0.9618 - val_loss: 0.5019 - val_accuracy: 0.8979\n",
      "Epoch 11/100\n",
      "52/52 [==============================] - 31s 598ms/step - loss: 0.1230 - accuracy: 0.9543 - val_loss: 0.2089 - val_accuracy: 0.9347\n",
      "Epoch 12/100\n",
      "52/52 [==============================] - 30s 577ms/step - loss: 0.1207 - accuracy: 0.9564 - val_loss: 0.1437 - val_accuracy: 0.9632\n",
      "Epoch 13/100\n",
      "52/52 [==============================] - 30s 579ms/step - loss: 0.0864 - accuracy: 0.9679 - val_loss: 0.1845 - val_accuracy: 0.9454\n",
      "Epoch 14/100\n",
      "52/52 [==============================] - 30s 573ms/step - loss: 0.0800 - accuracy: 0.9718 - val_loss: 0.3757 - val_accuracy: 0.8777\n",
      "Epoch 15/100\n",
      "52/52 [==============================] - 30s 574ms/step - loss: 0.0932 - accuracy: 0.9652 - val_loss: 0.1564 - val_accuracy: 0.9596\n",
      "Epoch 16/100\n",
      "52/52 [==============================] - 30s 575ms/step - loss: 0.0865 - accuracy: 0.9721 - val_loss: 0.3709 - val_accuracy: 0.9097\n",
      "Epoch 17/100\n",
      "52/52 [==============================] - 30s 572ms/step - loss: 0.0940 - accuracy: 0.9682 - val_loss: 0.1130 - val_accuracy: 0.9620\n",
      "Epoch 18/100\n",
      "52/52 [==============================] - 30s 577ms/step - loss: 0.0973 - accuracy: 0.9658 - val_loss: 0.1120 - val_accuracy: 0.9632\n",
      "Epoch 19/100\n",
      "52/52 [==============================] - 30s 578ms/step - loss: 0.0846 - accuracy: 0.9727 - val_loss: 0.0650 - val_accuracy: 0.9810\n",
      "Epoch 20/100\n",
      "52/52 [==============================] - 30s 579ms/step - loss: 0.0597 - accuracy: 0.9785 - val_loss: 0.0711 - val_accuracy: 0.9679\n",
      "Epoch 21/100\n",
      "52/52 [==============================] - 30s 573ms/step - loss: 0.0836 - accuracy: 0.9712 - val_loss: 0.0731 - val_accuracy: 0.9798\n",
      "Epoch 22/100\n",
      "52/52 [==============================] - 36s 695ms/step - loss: 0.0582 - accuracy: 0.9764 - val_loss: 0.0889 - val_accuracy: 0.9762\n",
      "Epoch 23/100\n",
      "52/52 [==============================] - 34s 648ms/step - loss: 0.0618 - accuracy: 0.9791 - val_loss: 0.0798 - val_accuracy: 0.9715\n",
      "Epoch 24/100\n",
      "52/52 [==============================] - 31s 600ms/step - loss: 0.0511 - accuracy: 0.9849 - val_loss: 0.0972 - val_accuracy: 0.9679\n",
      "Epoch 25/100\n",
      "52/52 [==============================] - 31s 587ms/step - loss: 0.0575 - accuracy: 0.9797 - val_loss: 0.8098 - val_accuracy: 0.9026\n",
      "Epoch 26/100\n",
      "52/52 [==============================] - 30s 581ms/step - loss: 0.0627 - accuracy: 0.9803 - val_loss: 0.0927 - val_accuracy: 0.9739\n",
      "Epoch 27/100\n",
      "52/52 [==============================] - 30s 579ms/step - loss: 0.0640 - accuracy: 0.9779 - val_loss: 0.3925 - val_accuracy: 0.8658\n",
      "Epoch 28/100\n",
      "52/52 [==============================] - 30s 583ms/step - loss: 0.0494 - accuracy: 0.9839 - val_loss: 0.0817 - val_accuracy: 0.9798\n",
      "Epoch 29/100\n",
      "52/52 [==============================] - 32s 609ms/step - loss: 0.0675 - accuracy: 0.9770 - val_loss: 0.1391 - val_accuracy: 0.9608\n",
      "Epoch 30/100\n",
      "52/52 [==============================] - 30s 583ms/step - loss: 0.0719 - accuracy: 0.9746 - val_loss: 0.3632 - val_accuracy: 0.9287\n",
      "Epoch 31/100\n",
      "52/52 [==============================] - 30s 581ms/step - loss: 0.0771 - accuracy: 0.9737 - val_loss: 0.2356 - val_accuracy: 0.9169\n",
      "Epoch 32/100\n",
      "52/52 [==============================] - 31s 595ms/step - loss: 0.0606 - accuracy: 0.9800 - val_loss: 0.2084 - val_accuracy: 0.9276\n",
      "Epoch 33/100\n",
      "52/52 [==============================] - 30s 584ms/step - loss: 0.0552 - accuracy: 0.9824 - val_loss: 0.0781 - val_accuracy: 0.9739\n",
      "Epoch 34/100\n",
      "52/52 [==============================] - 31s 591ms/step - loss: 0.0586 - accuracy: 0.9779 - val_loss: 0.0535 - val_accuracy: 0.9846\n",
      "Epoch 35/100\n",
      "52/52 [==============================] - 32s 621ms/step - loss: 0.0421 - accuracy: 0.9843 - val_loss: 0.0620 - val_accuracy: 0.9857\n",
      "Epoch 36/100\n",
      "52/52 [==============================] - 31s 597ms/step - loss: 0.0436 - accuracy: 0.9858 - val_loss: 0.0633 - val_accuracy: 0.9715\n",
      "Epoch 37/100\n",
      "52/52 [==============================] - 31s 600ms/step - loss: 0.0432 - accuracy: 0.9830 - val_loss: 0.1601 - val_accuracy: 0.9572\n",
      "Epoch 38/100\n",
      "52/52 [==============================] - 32s 609ms/step - loss: 0.0412 - accuracy: 0.9839 - val_loss: 0.1072 - val_accuracy: 0.9679\n",
      "Epoch 39/100\n",
      "52/52 [==============================] - 32s 610ms/step - loss: 0.0416 - accuracy: 0.9867 - val_loss: 0.2753 - val_accuracy: 0.9121\n",
      "Epoch 40/100\n",
      "52/52 [==============================] - 33s 628ms/step - loss: 0.0381 - accuracy: 0.9858 - val_loss: 0.1660 - val_accuracy: 0.9513\n",
      "Epoch 41/100\n",
      "52/52 [==============================] - 32s 614ms/step - loss: 0.0352 - accuracy: 0.9882 - val_loss: 0.0644 - val_accuracy: 0.9786\n",
      "Epoch 42/100\n",
      "52/52 [==============================] - 32s 607ms/step - loss: 0.0478 - accuracy: 0.9809 - val_loss: 0.1721 - val_accuracy: 0.9466\n",
      "Epoch 43/100\n",
      "52/52 [==============================] - 32s 606ms/step - loss: 0.0552 - accuracy: 0.9809 - val_loss: 0.1039 - val_accuracy: 0.9715\n",
      "Epoch 44/100\n",
      "52/52 [==============================] - 32s 617ms/step - loss: 0.0321 - accuracy: 0.9900 - val_loss: 0.1406 - val_accuracy: 0.9644\n",
      "Epoch 45/100\n",
      "52/52 [==============================] - 32s 611ms/step - loss: 0.0380 - accuracy: 0.9876 - val_loss: 0.9010 - val_accuracy: 0.6342\n",
      "Epoch 46/100\n",
      "52/52 [==============================] - 32s 620ms/step - loss: 0.0562 - accuracy: 0.9794 - val_loss: 0.5839 - val_accuracy: 0.8242\n",
      "Epoch 47/100\n",
      "52/52 [==============================] - 32s 608ms/step - loss: 0.0538 - accuracy: 0.9809 - val_loss: 0.2974 - val_accuracy: 0.9264\n",
      "Epoch 48/100\n",
      "52/52 [==============================] - 32s 614ms/step - loss: 0.0424 - accuracy: 0.9849 - val_loss: 0.0726 - val_accuracy: 0.9798\n",
      "Epoch 49/100\n",
      "52/52 [==============================] - 32s 610ms/step - loss: 0.0316 - accuracy: 0.9882 - val_loss: 0.0986 - val_accuracy: 0.9739\n",
      "Epoch 50/100\n",
      "52/52 [==============================] - 32s 619ms/step - loss: 0.0382 - accuracy: 0.9879 - val_loss: 0.6387 - val_accuracy: 0.7767\n",
      "Epoch 51/100\n",
      "52/52 [==============================] - 31s 589ms/step - loss: 0.0309 - accuracy: 0.9895 - val_loss: 0.5194 - val_accuracy: 0.9204\n",
      "Epoch 52/100\n",
      "52/52 [==============================] - 31s 589ms/step - loss: 0.0334 - accuracy: 0.9870 - val_loss: 0.0897 - val_accuracy: 0.9786\n",
      "Epoch 53/100\n",
      "52/52 [==============================] - 32s 605ms/step - loss: 0.0362 - accuracy: 0.9870 - val_loss: 0.1936 - val_accuracy: 0.9466\n",
      "Epoch 54/100\n",
      "52/52 [==============================] - 31s 598ms/step - loss: 0.0233 - accuracy: 0.9924 - val_loss: 0.0415 - val_accuracy: 0.9857\n",
      "Epoch 55/100\n",
      "52/52 [==============================] - 32s 621ms/step - loss: 0.0309 - accuracy: 0.9885 - val_loss: 0.1724 - val_accuracy: 0.9418\n",
      "Epoch 56/100\n",
      "52/52 [==============================] - 31s 598ms/step - loss: 0.0333 - accuracy: 0.9891 - val_loss: 0.0697 - val_accuracy: 0.9786\n",
      "Epoch 57/100\n"
     ]
    },
    {
     "name": "stdout",
     "output_type": "stream",
     "text": [
      "52/52 [==============================] - 30s 582ms/step - loss: 0.0250 - accuracy: 0.9900 - val_loss: 0.2088 - val_accuracy: 0.9513\n",
      "Epoch 58/100\n",
      "52/52 [==============================] - 30s 583ms/step - loss: 0.0286 - accuracy: 0.9900 - val_loss: 0.1031 - val_accuracy: 0.9727\n",
      "Epoch 59/100\n",
      "52/52 [==============================] - 31s 591ms/step - loss: 0.0218 - accuracy: 0.9930 - val_loss: 0.1535 - val_accuracy: 0.9608\n",
      "Epoch 60/100\n",
      "52/52 [==============================] - 32s 623ms/step - loss: 0.0287 - accuracy: 0.9894 - val_loss: 0.1213 - val_accuracy: 0.9751\n",
      "Epoch 61/100\n",
      "52/52 [==============================] - 32s 607ms/step - loss: 0.0330 - accuracy: 0.9882 - val_loss: 0.2870 - val_accuracy: 0.9299\n",
      "Epoch 62/100\n",
      "52/52 [==============================] - 32s 606ms/step - loss: 0.0238 - accuracy: 0.9906 - val_loss: 0.0799 - val_accuracy: 0.9810\n",
      "Epoch 63/100\n",
      "52/52 [==============================] - 32s 617ms/step - loss: 0.0281 - accuracy: 0.9894 - val_loss: 0.2132 - val_accuracy: 0.9466\n",
      "Epoch 64/100\n",
      "52/52 [==============================] - 33s 633ms/step - loss: 0.0257 - accuracy: 0.9903 - val_loss: 0.2256 - val_accuracy: 0.9382\n",
      "Epoch 65/100\n",
      "52/52 [==============================] - 32s 615ms/step - loss: 0.0324 - accuracy: 0.9897 - val_loss: 0.1370 - val_accuracy: 0.9679\n",
      "Epoch 66/100\n",
      "52/52 [==============================] - 32s 623ms/step - loss: 0.0245 - accuracy: 0.9924 - val_loss: 0.0895 - val_accuracy: 0.9679\n",
      "Epoch 67/100\n",
      "52/52 [==============================] - 31s 597ms/step - loss: 0.0257 - accuracy: 0.9912 - val_loss: 0.0644 - val_accuracy: 0.9846\n",
      "Epoch 68/100\n",
      "52/52 [==============================] - 31s 593ms/step - loss: 0.0381 - accuracy: 0.9852 - val_loss: 0.0892 - val_accuracy: 0.9810\n",
      "Epoch 69/100\n",
      "52/52 [==============================] - 31s 598ms/step - loss: 0.0333 - accuracy: 0.9873 - val_loss: 0.0884 - val_accuracy: 0.9739\n",
      "Epoch 70/100\n",
      "52/52 [==============================] - 30s 582ms/step - loss: 0.0302 - accuracy: 0.9909 - val_loss: 0.2930 - val_accuracy: 0.9371\n",
      "Epoch 71/100\n",
      "52/52 [==============================] - 30s 578ms/step - loss: 0.0265 - accuracy: 0.9894 - val_loss: 0.9446 - val_accuracy: 0.8812\n",
      "Epoch 72/100\n",
      "52/52 [==============================] - 31s 590ms/step - loss: 0.0237 - accuracy: 0.9918 - val_loss: 0.0546 - val_accuracy: 0.9869\n",
      "Epoch 73/100\n",
      "52/52 [==============================] - 30s 575ms/step - loss: 0.0191 - accuracy: 0.9942 - val_loss: 0.0971 - val_accuracy: 0.9751\n",
      "Epoch 74/100\n",
      "52/52 [==============================] - 30s 582ms/step - loss: 0.0242 - accuracy: 0.9903 - val_loss: 0.0811 - val_accuracy: 0.9810\n",
      "Epoch 75/100\n",
      "52/52 [==============================] - 30s 575ms/step - loss: 0.0204 - accuracy: 0.9912 - val_loss: 0.2708 - val_accuracy: 0.9371\n",
      "Epoch 76/100\n",
      "52/52 [==============================] - 30s 581ms/step - loss: 0.0433 - accuracy: 0.9830 - val_loss: 0.2668 - val_accuracy: 0.9454\n",
      "Epoch 77/100\n",
      "52/52 [==============================] - 30s 577ms/step - loss: 0.0478 - accuracy: 0.9809 - val_loss: 0.1447 - val_accuracy: 0.9525\n",
      "Epoch 78/100\n",
      "52/52 [==============================] - 30s 582ms/step - loss: 0.0252 - accuracy: 0.9918 - val_loss: 0.0773 - val_accuracy: 0.9774\n",
      "Epoch 79/100\n",
      "52/52 [==============================] - 30s 580ms/step - loss: 0.0389 - accuracy: 0.9852 - val_loss: 0.1168 - val_accuracy: 0.9774\n",
      "Epoch 80/100\n",
      "52/52 [==============================] - 31s 588ms/step - loss: 0.0290 - accuracy: 0.9870 - val_loss: 0.3667 - val_accuracy: 0.9299\n",
      "Epoch 81/100\n",
      "52/52 [==============================] - 30s 580ms/step - loss: 0.0216 - accuracy: 0.9915 - val_loss: 0.0647 - val_accuracy: 0.9846\n",
      "Epoch 82/100\n",
      "52/52 [==============================] - 31s 590ms/step - loss: 0.0272 - accuracy: 0.9912 - val_loss: 0.1439 - val_accuracy: 0.9477\n",
      "Epoch 83/100\n",
      "52/52 [==============================] - 30s 575ms/step - loss: 0.0286 - accuracy: 0.9897 - val_loss: 0.0799 - val_accuracy: 0.9810\n",
      "Epoch 84/100\n",
      "52/52 [==============================] - 31s 599ms/step - loss: 0.0200 - accuracy: 0.9924 - val_loss: 0.1133 - val_accuracy: 0.9727\n",
      "Epoch 85/100\n",
      "52/52 [==============================] - 31s 592ms/step - loss: 0.0152 - accuracy: 0.9945 - val_loss: 0.0716 - val_accuracy: 0.9834\n",
      "Epoch 86/100\n",
      "52/52 [==============================] - 31s 590ms/step - loss: 0.0190 - accuracy: 0.9940 - val_loss: 0.0774 - val_accuracy: 0.9822\n",
      "Epoch 87/100\n",
      "52/52 [==============================] - 31s 605ms/step - loss: 0.0181 - accuracy: 0.9945 - val_loss: 0.1301 - val_accuracy: 0.9644\n",
      "Epoch 88/100\n",
      "52/52 [==============================] - 35s 663ms/step - loss: 0.0165 - accuracy: 0.9942 - val_loss: 0.1086 - val_accuracy: 0.9715\n",
      "Epoch 89/100\n",
      "52/52 [==============================] - 35s 673ms/step - loss: 0.0217 - accuracy: 0.9924 - val_loss: 0.1115 - val_accuracy: 0.9644\n",
      "Epoch 90/100\n",
      "52/52 [==============================] - 32s 615ms/step - loss: 0.0161 - accuracy: 0.9939 - val_loss: 0.0602 - val_accuracy: 0.9857\n",
      "Epoch 91/100\n",
      "52/52 [==============================] - 30s 577ms/step - loss: 0.0190 - accuracy: 0.9939 - val_loss: 0.0821 - val_accuracy: 0.9881\n",
      "Epoch 92/100\n",
      "52/52 [==============================] - 30s 581ms/step - loss: 0.0150 - accuracy: 0.9946 - val_loss: 0.0720 - val_accuracy: 0.9857\n",
      "Epoch 93/100\n",
      "52/52 [==============================] - 30s 584ms/step - loss: 0.0170 - accuracy: 0.9936 - val_loss: 0.4450 - val_accuracy: 0.9145\n",
      "Epoch 94/100\n",
      "52/52 [==============================] - 31s 590ms/step - loss: 0.0270 - accuracy: 0.9915 - val_loss: 0.1191 - val_accuracy: 0.9715\n",
      "Epoch 95/100\n",
      "52/52 [==============================] - 32s 622ms/step - loss: 0.0276 - accuracy: 0.9897 - val_loss: 0.5008 - val_accuracy: 0.8800\n",
      "Epoch 96/100\n",
      "52/52 [==============================] - 31s 588ms/step - loss: 0.0438 - accuracy: 0.9882 - val_loss: 0.2913 - val_accuracy: 0.9406\n",
      "Epoch 97/100\n",
      "52/52 [==============================] - 32s 621ms/step - loss: 0.0265 - accuracy: 0.9903 - val_loss: 0.1118 - val_accuracy: 0.9727\n",
      "Epoch 98/100\n",
      "52/52 [==============================] - 30s 579ms/step - loss: 0.0173 - accuracy: 0.9942 - val_loss: 0.1132 - val_accuracy: 0.9679\n",
      "Epoch 99/100\n",
      "52/52 [==============================] - 31s 604ms/step - loss: 0.0234 - accuracy: 0.9927 - val_loss: 0.0712 - val_accuracy: 0.9857\n",
      "Epoch 100/100\n",
      "52/52 [==============================] - 32s 608ms/step - loss: 0.0257 - accuracy: 0.9912 - val_loss: 0.0848 - val_accuracy: 0.9822\n"
     ]
    }
   ],
   "source": [
    "H = model.fit_generator(aug.flow(trainX, trainY, batch_size=batch_size),\n",
    "                        validation_data=(testX,testY),\n",
    "                        steps_per_epoch=len(trainX) // batch_size,\n",
    "                        epochs=epochs, verbose=1)"
   ]
  },
  {
   "cell_type": "code",
   "execution_count": 12,
   "id": "961e12b1",
   "metadata": {},
   "outputs": [
    {
     "name": "stdout",
     "output_type": "stream",
     "text": [
      "INFO:tensorflow:Assets written to: mask_detection_fjr_new.model\\assets\n"
     ]
    }
   ],
   "source": [
    "model.save('mask_detection_fjr_new.model')"
   ]
  },
  {
   "cell_type": "code",
   "execution_count": 13,
   "id": "8c372ca4",
   "metadata": {},
   "outputs": [
    {
     "data": {
      "image/png": "[encoded data removed]",
      "text/plain": [
       "<Figure size 432x288 with 1 Axes>"
      ]
     },
     "metadata": {},
     "output_type": "display_data"
    }
   ],
   "source": [
    "plt.style.use(\"ggplot\")\n",
    "plt.figure()\n",
    "N = epochs\n",
    "plt.plot(np.arange(0,N), H.history[\"loss\"], label=\"train_loss\")\n",
    "plt.plot(np.arange(0,N), H.history[\"val_loss\"], label=\"val_loss\")\n",
    "plt.plot(np.arange(0,N), H.history[\"accuracy\"], label=\"train_acc\")\n",
    "plt.plot(np.arange(0,N), H.history[\"val_accuracy\"], label=\"val_acc\")\n",
    "\n",
    "plt.title(\"Training Loss and Accuracy\")\n",
    "plt.xlabel(\"Epoch #\")\n",
    "plt.ylabel(\"Loss/Accuracy\")\n",
    "plt.legend(loc=\"upper right\")\n",
    "\n",
    "# save plot to disk\n",
    "plt.savefig('plot.png')"
   ]
  },
  {
   "cell_type": "code",
   "execution_count": null,
   "id": "50eec9c0",
   "metadata": {},
   "outputs": [],
   "source": []
  }
 ],
 "metadata": {
  "kernelspec": {
   "display_name": "Python 3 (ipykernel)",
   "language": "python",
   "name": "python3"
  },
  "language_info": {
   "codemirror_mode": {
    "name": "ipython",
    "version": 3
   },
   "file_extension": ".py",
   "mimetype": "text/x-python",
   "name": "python",
   "nbconvert_exporter": "python",
   "pygments_lexer": "ipython3",
   "version": "3.8.6"
  }
 },
 "nbformat": 4,
 "nbformat_minor": 5
}
