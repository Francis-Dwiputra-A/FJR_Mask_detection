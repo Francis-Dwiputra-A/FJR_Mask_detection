{
 "cells": [
  {
   "cell_type": "code",
   "execution_count": 1,
   "id": "e9a6c70f",
   "metadata": {},
   "outputs": [],
   "source": [
    "from tensorflow.keras.preprocessing.image import ImageDataGenerator\n",
    "from tensorflow.keras.optimizers import Adam\n",
    "from tensorflow.keras.preprocessing.image import img_to_array\n",
    "from tensorflow.keras.utils import to_categorical, plot_model\n",
    "from tensorflow.keras.models import Sequential\n",
    "from tensorflow.keras.layers import BatchNormalization, Conv2D, MaxPooling2D, Activation, Flatten, Dropout, Dense\n",
    "from tensorflow.keras import backend as K\n",
    "from sklearn.model_selection import train_test_split\n",
    "import matplotlib.pyplot as plt\n",
    "import numpy as np\n",
    "import random\n",
    "import cv2\n",
    "import os\n",
    "import glob"
   ]
  },
  {
   "cell_type": "code",
   "execution_count": 2,
   "id": "e58ec770",
   "metadata": {},
   "outputs": [],
   "source": [
    "epochs = 100\n",
    "lr = 1e-3\n",
    "batch_size = 64\n",
    "img_dims = (96,96,3)\n",
    "\n",
    "data = []\n",
    "labels = []"
   ]
  },
  {
   "cell_type": "code",
   "execution_count": 3,
   "id": "e9d16345",
   "metadata": {},
   "outputs": [],
   "source": [
    "image_files = [f for f in glob.glob('dataset/**/*', recursive=True) if not os.path.isdir(f)]\n",
    "random.shuffle(image_files)"
   ]
  },
  {
   "cell_type": "code",
   "execution_count": 4,
   "id": "3fb1658b",
   "metadata": {},
   "outputs": [
    {
     "data": {
      "text/plain": [
       "4540"
      ]
     },
     "execution_count": 4,
     "metadata": {},
     "output_type": "execute_result"
    }
   ],
   "source": [
    "len(image_files)"
   ]
  },
  {
   "cell_type": "code",
   "execution_count": 5,
   "id": "7664f12f",
   "metadata": {},
   "outputs": [],
   "source": [
    "for img in image_files:\n",
    "\n",
    "    image = cv2.imread(img)\n",
    "    try:\n",
    "        image = cv2.resize(image, (img_dims[0],img_dims[1]))\n",
    "        image = img_to_array(image)\n",
    "        data.append(image)\n",
    "    except Exception as e:\n",
    "        continue\n",
    "    label = img.split(os.path.sep)[-2] # C:\\Files\\gender_dataset_face\\woman\\face_1162.jpg\n",
    "    if label == \"without_mask\":\n",
    "        label = 1\n",
    "    else:\n",
    "        label = 0\n",
    "        \n",
    "    labels.append([label])"
   ]
  },
  {
   "cell_type": "code",
   "execution_count": 6,
   "id": "20ddc1a2",
   "metadata": {},
   "outputs": [],
   "source": [
    "data = np.array(data, dtype=\"float\") / 255.0\n",
    "labels = np.array(labels)"
   ]
  },
  {
   "cell_type": "code",
   "execution_count": 7,
   "id": "e0b51fad",
   "metadata": {},
   "outputs": [],
   "source": [
    "(trainX, testX, trainY, testY) = train_test_split(data, labels, test_size=0.2,\n",
    "                                                  random_state=42)\n",
    "\n",
    "trainY = to_categorical(trainY, num_classes=2) # [[1, 0], [0, 1], [0, 1], ...]\n",
    "testY = to_categorical(testY, num_classes=2)"
   ]
  },
  {
   "cell_type": "code",
   "execution_count": 8,
   "id": "480866ec",
   "metadata": {},
   "outputs": [],
   "source": [
    "aug = ImageDataGenerator(rotation_range=25, width_shift_range=0.1,\n",
    "                         height_shift_range=0.1, shear_range=0.2, zoom_range=0.2,\n",
    "                         horizontal_flip=True, fill_mode=\"nearest\")"
   ]
  },
  {
   "cell_type": "code",
   "execution_count": 9,
   "id": "333ce02c",
   "metadata": {},
   "outputs": [],
   "source": [
    "def build(width, height, depth, classes):\n",
    "    model = Sequential()\n",
    "    inputShape = (height, width, depth)\n",
    "    chanDim = -1\n",
    "\n",
    "    if K.image_data_format() == \"channels_first\": #Returns a string, either 'channels_first' or 'channels_last'\n",
    "        inputShape = (depth, height, width)\n",
    "        chanDim = 1\n",
    "    \n",
    "    # The axis that should be normalized, after a Conv2D layer with data_format=\"channels_first\", \n",
    "    # set axis=1 in BatchNormalization.\n",
    "\n",
    "    model.add(Conv2D(32, (3,3), padding=\"same\", input_shape=inputShape))\n",
    "    model.add(Activation(\"relu\"))\n",
    "    model.add(BatchNormalization(axis=chanDim))\n",
    "    model.add(MaxPooling2D(pool_size=(3,3)))\n",
    "    model.add(Dropout(0.25))\n",
    "\n",
    "    model.add(Conv2D(64, (3,3), padding=\"same\"))\n",
    "    model.add(Activation(\"relu\"))\n",
    "    model.add(BatchNormalization(axis=chanDim))\n",
    "\n",
    "    model.add(Conv2D(64, (3,3), padding=\"same\"))\n",
    "    model.add(Activation(\"relu\"))\n",
    "    model.add(BatchNormalization(axis=chanDim))\n",
    "    model.add(MaxPooling2D(pool_size=(2,2)))\n",
    "    model.add(Dropout(0.25))\n",
    "\n",
    "    model.add(Conv2D(128, (3,3), padding=\"same\"))\n",
    "    model.add(Activation(\"relu\"))\n",
    "    model.add(BatchNormalization(axis=chanDim))\n",
    "\n",
    "    model.add(Conv2D(128, (3,3), padding=\"same\"))\n",
    "    model.add(Activation(\"relu\"))\n",
    "    model.add(BatchNormalization(axis=chanDim))\n",
    "    model.add(MaxPooling2D(pool_size=(2,2)))\n",
    "    model.add(Dropout(0.25))\n",
    "\n",
    "    model.add(Flatten())\n",
    "    model.add(Dense(1024))\n",
    "    model.add(Activation(\"relu\"))\n",
    "    model.add(BatchNormalization())\n",
    "    model.add(Dropout(0.5))\n",
    "\n",
    "    model.add(Dense(classes))\n",
    "    model.add(Activation(\"sigmoid\"))\n",
    "\n",
    "    return model\n"
   ]
  },
  {
   "cell_type": "code",
   "execution_count": 10,
   "id": "2c191e49",
   "metadata": {},
   "outputs": [
    {
     "name": "stderr",
     "output_type": "stream",
     "text": [
      "c:\\users\\francis\\appdata\\local\\programs\\python\\python38\\lib\\site-packages\\tensorflow\\python\\keras\\optimizer_v2\\optimizer_v2.py:367: UserWarning: The `lr` argument is deprecated, use `learning_rate` instead.\n",
      "  warnings.warn(\n"
     ]
    }
   ],
   "source": [
    "model = build(width=img_dims[0], height=img_dims[1], depth=img_dims[2],\n",
    "                            classes=2)\n",
    "\n",
    "# compile the model\n",
    "opt = Adam(lr=lr, decay=lr/epochs)\n",
    "model.compile(loss=\"binary_crossentropy\", optimizer=opt, metrics=[\"accuracy\"])"
   ]
  },
  {
   "cell_type": "code",
   "execution_count": 11,
   "id": "4a11a114",
   "metadata": {},
   "outputs": [
    {
     "name": "stderr",
     "output_type": "stream",
     "text": [
      "c:\\users\\francis\\appdata\\local\\programs\\python\\python38\\lib\\site-packages\\tensorflow\\python\\keras\\engine\\training.py:1963: UserWarning: `Model.fit_generator` is deprecated and will be removed in a future version. Please use `Model.fit`, which supports generators.\n",
      "  warnings.warn('`Model.fit_generator` is deprecated and '\n"
     ]
    },
    {
     "name": "stdout",
     "output_type": "stream",
     "text": [
      "Epoch 1/100\n",
      "56/56 [==============================] - 36s 627ms/step - loss: 0.4730 - accuracy: 0.8436 - val_loss: 1.7796 - val_accuracy: 0.5420\n",
      "Epoch 2/100\n",
      "56/56 [==============================] - 35s 614ms/step - loss: 0.2713 - accuracy: 0.9017 - val_loss: 2.2227 - val_accuracy: 0.5420\n",
      "Epoch 3/100\n",
      "56/56 [==============================] - 36s 637ms/step - loss: 0.2638 - accuracy: 0.9062 - val_loss: 2.0134 - val_accuracy: 0.5420\n",
      "Epoch 4/100\n",
      "56/56 [==============================] - 35s 616ms/step - loss: 0.2153 - accuracy: 0.9239 - val_loss: 1.0783 - val_accuracy: 0.6139\n",
      "Epoch 5/100\n",
      "56/56 [==============================] - 35s 619ms/step - loss: 0.1833 - accuracy: 0.9343 - val_loss: 0.7969 - val_accuracy: 0.7190\n",
      "Epoch 6/100\n",
      "56/56 [==============================] - 35s 620ms/step - loss: 0.1933 - accuracy: 0.9315 - val_loss: 0.6273 - val_accuracy: 0.7854\n",
      "Epoch 7/100\n",
      "56/56 [==============================] - 35s 616ms/step - loss: 0.1720 - accuracy: 0.9377 - val_loss: 0.6789 - val_accuracy: 0.8020\n",
      "Epoch 8/100\n",
      "56/56 [==============================] - 35s 630ms/step - loss: 0.1735 - accuracy: 0.9346 - val_loss: 0.2767 - val_accuracy: 0.8971\n",
      "Epoch 9/100\n",
      "56/56 [==============================] - 34s 614ms/step - loss: 0.1438 - accuracy: 0.9532 - val_loss: 0.1652 - val_accuracy: 0.9458\n",
      "Epoch 10/100\n",
      "56/56 [==============================] - 35s 628ms/step - loss: 0.1381 - accuracy: 0.9493 - val_loss: 0.3677 - val_accuracy: 0.8695\n",
      "Epoch 11/100\n",
      "56/56 [==============================] - 35s 631ms/step - loss: 0.1357 - accuracy: 0.9501 - val_loss: 0.1740 - val_accuracy: 0.9369\n",
      "Epoch 12/100\n",
      "56/56 [==============================] - 35s 617ms/step - loss: 0.1431 - accuracy: 0.9510 - val_loss: 0.1242 - val_accuracy: 0.9613\n",
      "Epoch 13/100\n",
      "56/56 [==============================] - 35s 618ms/step - loss: 0.1222 - accuracy: 0.9544 - val_loss: 0.1046 - val_accuracy: 0.9746\n",
      "Epoch 14/100\n",
      "56/56 [==============================] - 34s 615ms/step - loss: 0.1182 - accuracy: 0.9566 - val_loss: 0.1356 - val_accuracy: 0.9591\n",
      "Epoch 15/100\n",
      "56/56 [==============================] - 34s 615ms/step - loss: 0.1302 - accuracy: 0.9546 - val_loss: 0.0876 - val_accuracy: 0.9668\n",
      "Epoch 16/100\n",
      "56/56 [==============================] - 35s 615ms/step - loss: 0.1037 - accuracy: 0.9637 - val_loss: 0.1101 - val_accuracy: 0.9624\n",
      "Epoch 17/100\n",
      "56/56 [==============================] - 35s 619ms/step - loss: 0.1020 - accuracy: 0.9625 - val_loss: 0.0860 - val_accuracy: 0.9657\n",
      "Epoch 18/100\n",
      "56/56 [==============================] - 35s 616ms/step - loss: 0.0884 - accuracy: 0.9707 - val_loss: 0.0946 - val_accuracy: 0.9712\n",
      "Epoch 19/100\n",
      "56/56 [==============================] - 35s 617ms/step - loss: 0.1019 - accuracy: 0.9662 - val_loss: 0.2380 - val_accuracy: 0.9314\n",
      "Epoch 20/100\n",
      "56/56 [==============================] - 35s 615ms/step - loss: 0.1160 - accuracy: 0.9603 - val_loss: 0.2238 - val_accuracy: 0.9192\n",
      "Epoch 21/100\n",
      "56/56 [==============================] - 35s 615ms/step - loss: 0.1038 - accuracy: 0.9639 - val_loss: 0.0735 - val_accuracy: 0.9779\n",
      "Epoch 22/100\n",
      "56/56 [==============================] - 35s 621ms/step - loss: 0.1015 - accuracy: 0.9637 - val_loss: 0.0628 - val_accuracy: 0.9768\n",
      "Epoch 23/100\n",
      "56/56 [==============================] - 34s 612ms/step - loss: 0.0801 - accuracy: 0.9699 - val_loss: 0.1219 - val_accuracy: 0.9735\n",
      "Epoch 24/100\n",
      "56/56 [==============================] - 35s 619ms/step - loss: 0.0858 - accuracy: 0.9684 - val_loss: 0.1755 - val_accuracy: 0.9602\n",
      "Epoch 25/100\n",
      "56/56 [==============================] - 35s 619ms/step - loss: 0.0844 - accuracy: 0.9701 - val_loss: 0.0830 - val_accuracy: 0.9723\n",
      "Epoch 26/100\n",
      "56/56 [==============================] - 34s 614ms/step - loss: 0.0779 - accuracy: 0.9710 - val_loss: 0.0748 - val_accuracy: 0.9746\n",
      "Epoch 27/100\n",
      "56/56 [==============================] - 35s 619ms/step - loss: 0.0891 - accuracy: 0.9682 - val_loss: 0.0985 - val_accuracy: 0.9701\n",
      "Epoch 28/100\n",
      "56/56 [==============================] - 35s 618ms/step - loss: 0.0833 - accuracy: 0.9727 - val_loss: 0.2248 - val_accuracy: 0.9325\n",
      "Epoch 29/100\n",
      "56/56 [==============================] - 35s 615ms/step - loss: 0.0845 - accuracy: 0.9693 - val_loss: 0.1210 - val_accuracy: 0.9569\n",
      "Epoch 30/100\n",
      "56/56 [==============================] - 34s 613ms/step - loss: 0.0819 - accuracy: 0.9676 - val_loss: 0.3117 - val_accuracy: 0.9248\n",
      "Epoch 31/100\n",
      "56/56 [==============================] - 35s 621ms/step - loss: 0.0665 - accuracy: 0.9775 - val_loss: 0.2289 - val_accuracy: 0.9469\n",
      "Epoch 32/100\n",
      "56/56 [==============================] - 35s 617ms/step - loss: 0.0652 - accuracy: 0.9780 - val_loss: 0.0975 - val_accuracy: 0.9679\n",
      "Epoch 33/100\n",
      "56/56 [==============================] - 35s 616ms/step - loss: 0.0684 - accuracy: 0.9744 - val_loss: 0.1110 - val_accuracy: 0.9657\n",
      "Epoch 34/100\n",
      "56/56 [==============================] - 35s 629ms/step - loss: 0.0546 - accuracy: 0.9794 - val_loss: 0.0481 - val_accuracy: 0.9834\n",
      "Epoch 35/100\n",
      "56/56 [==============================] - 34s 601ms/step - loss: 0.0631 - accuracy: 0.9752 - val_loss: 0.0996 - val_accuracy: 0.9690\n",
      "Epoch 36/100\n",
      "56/56 [==============================] - 34s 600ms/step - loss: 0.0698 - accuracy: 0.9724 - val_loss: 0.0669 - val_accuracy: 0.9768\n",
      "Epoch 37/100\n",
      "56/56 [==============================] - 35s 633ms/step - loss: 0.0566 - accuracy: 0.9786 - val_loss: 0.0751 - val_accuracy: 0.9723\n",
      "Epoch 38/100\n",
      "56/56 [==============================] - 34s 599ms/step - loss: 0.0602 - accuracy: 0.9772 - val_loss: 0.1288 - val_accuracy: 0.9447\n",
      "Epoch 39/100\n",
      "56/56 [==============================] - 34s 600ms/step - loss: 0.0760 - accuracy: 0.9738 - val_loss: 0.0631 - val_accuracy: 0.9757\n",
      "Epoch 40/100\n",
      "56/56 [==============================] - 34s 603ms/step - loss: 0.0626 - accuracy: 0.9766 - val_loss: 0.1910 - val_accuracy: 0.9381\n",
      "Epoch 41/100\n",
      "56/56 [==============================] - 34s 601ms/step - loss: 0.0468 - accuracy: 0.9842 - val_loss: 0.1568 - val_accuracy: 0.9425\n",
      "Epoch 42/100\n",
      "56/56 [==============================] - 34s 600ms/step - loss: 0.0494 - accuracy: 0.9808 - val_loss: 0.0709 - val_accuracy: 0.9746\n",
      "Epoch 43/100\n",
      "56/56 [==============================] - 34s 603ms/step - loss: 0.0478 - accuracy: 0.9851 - val_loss: 0.0656 - val_accuracy: 0.9823\n",
      "Epoch 44/100\n",
      "56/56 [==============================] - 34s 605ms/step - loss: 0.0625 - accuracy: 0.9797 - val_loss: 0.1105 - val_accuracy: 0.9635\n",
      "Epoch 45/100\n",
      "56/56 [==============================] - 34s 607ms/step - loss: 0.0638 - accuracy: 0.9746 - val_loss: 0.1702 - val_accuracy: 0.9414\n",
      "Epoch 46/100\n",
      "56/56 [==============================] - 34s 604ms/step - loss: 0.0492 - accuracy: 0.9808 - val_loss: 0.0390 - val_accuracy: 0.9878\n",
      "Epoch 47/100\n",
      "56/56 [==============================] - 34s 598ms/step - loss: 0.0443 - accuracy: 0.9856 - val_loss: 0.0364 - val_accuracy: 0.9878\n",
      "Epoch 48/100\n",
      "56/56 [==============================] - 34s 599ms/step - loss: 0.0363 - accuracy: 0.9862 - val_loss: 0.4901 - val_accuracy: 0.8573\n",
      "Epoch 49/100\n",
      "56/56 [==============================] - 34s 609ms/step - loss: 0.0402 - accuracy: 0.9865 - val_loss: 0.0611 - val_accuracy: 0.9779\n",
      "Epoch 50/100\n",
      "56/56 [==============================] - 34s 602ms/step - loss: 0.0447 - accuracy: 0.9825 - val_loss: 0.2588 - val_accuracy: 0.9369\n",
      "Epoch 51/100\n",
      "56/56 [==============================] - 34s 605ms/step - loss: 0.0363 - accuracy: 0.9876 - val_loss: 0.1106 - val_accuracy: 0.9757\n",
      "Epoch 52/100\n",
      "56/56 [==============================] - 34s 600ms/step - loss: 0.0341 - accuracy: 0.9887 - val_loss: 0.0805 - val_accuracy: 0.9757\n",
      "Epoch 53/100\n",
      "56/56 [==============================] - 34s 601ms/step - loss: 0.0313 - accuracy: 0.9879 - val_loss: 0.0698 - val_accuracy: 0.9801\n",
      "Epoch 54/100\n",
      "56/56 [==============================] - 35s 627ms/step - loss: 0.0373 - accuracy: 0.9870 - val_loss: 0.2260 - val_accuracy: 0.9159\n",
      "Epoch 55/100\n",
      "56/56 [==============================] - 34s 604ms/step - loss: 0.0399 - accuracy: 0.9884 - val_loss: 0.1807 - val_accuracy: 0.9480\n",
      "Epoch 56/100\n",
      "56/56 [==============================] - 34s 599ms/step - loss: 0.0384 - accuracy: 0.9842 - val_loss: 0.0819 - val_accuracy: 0.9757\n",
      "Epoch 57/100\n"
     ]
    },
    {
     "name": "stdout",
     "output_type": "stream",
     "text": [
      "56/56 [==============================] - 34s 599ms/step - loss: 0.0440 - accuracy: 0.9814 - val_loss: 0.3455 - val_accuracy: 0.8982\n",
      "Epoch 58/100\n",
      "56/56 [==============================] - 34s 598ms/step - loss: 0.0434 - accuracy: 0.9853 - val_loss: 0.0376 - val_accuracy: 0.9889\n",
      "Epoch 59/100\n",
      "56/56 [==============================] - 36s 650ms/step - loss: 0.0475 - accuracy: 0.9842 - val_loss: 0.0606 - val_accuracy: 0.9790\n",
      "Epoch 60/100\n",
      "56/56 [==============================] - 34s 606ms/step - loss: 0.0370 - accuracy: 0.9873 - val_loss: 0.0719 - val_accuracy: 0.9812\n",
      "Epoch 61/100\n",
      "56/56 [==============================] - 34s 601ms/step - loss: 0.0411 - accuracy: 0.9839 - val_loss: 0.5237 - val_accuracy: 0.8739\n",
      "Epoch 62/100\n",
      "56/56 [==============================] - 34s 603ms/step - loss: 0.0353 - accuracy: 0.9870 - val_loss: 0.1444 - val_accuracy: 0.9524\n",
      "Epoch 63/100\n",
      "56/56 [==============================] - 34s 603ms/step - loss: 0.0268 - accuracy: 0.9910 - val_loss: 0.4119 - val_accuracy: 0.8706\n",
      "Epoch 64/100\n",
      "56/56 [==============================] - 34s 604ms/step - loss: 0.0434 - accuracy: 0.9820 - val_loss: 0.2157 - val_accuracy: 0.9369\n",
      "Epoch 65/100\n",
      "56/56 [==============================] - 34s 601ms/step - loss: 0.0378 - accuracy: 0.9870 - val_loss: 0.0861 - val_accuracy: 0.9768\n",
      "Epoch 66/100\n",
      "56/56 [==============================] - 34s 603ms/step - loss: 0.0346 - accuracy: 0.9856 - val_loss: 0.0907 - val_accuracy: 0.9735\n",
      "Epoch 67/100\n",
      "56/56 [==============================] - 39s 697ms/step - loss: 0.0284 - accuracy: 0.9893 - val_loss: 0.0808 - val_accuracy: 0.9801\n",
      "Epoch 68/100\n",
      "56/56 [==============================] - 34s 605ms/step - loss: 0.0204 - accuracy: 0.9930 - val_loss: 0.1959 - val_accuracy: 0.9314\n",
      "Epoch 69/100\n",
      "56/56 [==============================] - 34s 605ms/step - loss: 0.0251 - accuracy: 0.9915 - val_loss: 0.0465 - val_accuracy: 0.9856\n",
      "Epoch 70/100\n",
      "56/56 [==============================] - 34s 603ms/step - loss: 0.0274 - accuracy: 0.9899 - val_loss: 0.0464 - val_accuracy: 0.9867\n",
      "Epoch 71/100\n",
      "56/56 [==============================] - 34s 606ms/step - loss: 0.0221 - accuracy: 0.9915 - val_loss: 0.0874 - val_accuracy: 0.9790\n",
      "Epoch 72/100\n",
      "56/56 [==============================] - 36s 633ms/step - loss: 0.0305 - accuracy: 0.9876 - val_loss: 0.0362 - val_accuracy: 0.9845\n",
      "Epoch 73/100\n",
      "56/56 [==============================] - 35s 617ms/step - loss: 0.0426 - accuracy: 0.9859 - val_loss: 0.0331 - val_accuracy: 0.9878\n",
      "Epoch 74/100\n",
      "56/56 [==============================] - 34s 607ms/step - loss: 0.0368 - accuracy: 0.9862 - val_loss: 0.0631 - val_accuracy: 0.9790\n",
      "Epoch 75/100\n",
      "56/56 [==============================] - 34s 602ms/step - loss: 0.0418 - accuracy: 0.9865 - val_loss: 0.1005 - val_accuracy: 0.9690\n",
      "Epoch 76/100\n",
      "56/56 [==============================] - 34s 602ms/step - loss: 0.0318 - accuracy: 0.9884 - val_loss: 0.0725 - val_accuracy: 0.9790\n",
      "Epoch 77/100\n",
      "56/56 [==============================] - 34s 605ms/step - loss: 0.0243 - accuracy: 0.9924 - val_loss: 0.0286 - val_accuracy: 0.9900\n",
      "Epoch 78/100\n",
      "56/56 [==============================] - 34s 605ms/step - loss: 0.0519 - accuracy: 0.9842 - val_loss: 0.0774 - val_accuracy: 0.9701\n",
      "Epoch 79/100\n",
      "56/56 [==============================] - 34s 607ms/step - loss: 0.0274 - accuracy: 0.9890 - val_loss: 0.0604 - val_accuracy: 0.9856\n",
      "Epoch 80/100\n",
      "56/56 [==============================] - 34s 605ms/step - loss: 0.0221 - accuracy: 0.9921 - val_loss: 0.0419 - val_accuracy: 0.9856\n",
      "Epoch 81/100\n",
      "56/56 [==============================] - 37s 652ms/step - loss: 0.0221 - accuracy: 0.9907 - val_loss: 0.0451 - val_accuracy: 0.9823\n",
      "Epoch 82/100\n",
      "56/56 [==============================] - 34s 605ms/step - loss: 0.0231 - accuracy: 0.9904 - val_loss: 0.0320 - val_accuracy: 0.9845\n",
      "Epoch 83/100\n",
      "56/56 [==============================] - 35s 619ms/step - loss: 0.0283 - accuracy: 0.9899 - val_loss: 0.0705 - val_accuracy: 0.9801\n",
      "Epoch 84/100\n",
      "56/56 [==============================] - 36s 633ms/step - loss: 0.0315 - accuracy: 0.9890 - val_loss: 0.1137 - val_accuracy: 0.9646\n",
      "Epoch 85/100\n",
      "56/56 [==============================] - 35s 621ms/step - loss: 0.0228 - accuracy: 0.9924 - val_loss: 0.0414 - val_accuracy: 0.9867\n",
      "Epoch 86/100\n",
      "56/56 [==============================] - 35s 624ms/step - loss: 0.0200 - accuracy: 0.9941 - val_loss: 0.0340 - val_accuracy: 0.9856\n",
      "Epoch 87/100\n",
      "56/56 [==============================] - 35s 615ms/step - loss: 0.0303 - accuracy: 0.9896 - val_loss: 0.1712 - val_accuracy: 0.9546\n",
      "Epoch 88/100\n",
      "56/56 [==============================] - 35s 630ms/step - loss: 0.0262 - accuracy: 0.9915 - val_loss: 0.1408 - val_accuracy: 0.9591\n",
      "Epoch 89/100\n",
      "56/56 [==============================] - 34s 602ms/step - loss: 0.0261 - accuracy: 0.9907 - val_loss: 0.0908 - val_accuracy: 0.9712\n",
      "Epoch 90/100\n",
      "56/56 [==============================] - 34s 602ms/step - loss: 0.0244 - accuracy: 0.9913 - val_loss: 0.1416 - val_accuracy: 0.9635\n",
      "Epoch 91/100\n",
      "56/56 [==============================] - 34s 599ms/step - loss: 0.0285 - accuracy: 0.9904 - val_loss: 0.2206 - val_accuracy: 0.9226\n",
      "Epoch 92/100\n",
      "56/56 [==============================] - 34s 604ms/step - loss: 0.0329 - accuracy: 0.9876 - val_loss: 0.6292 - val_accuracy: 0.8805\n",
      "Epoch 93/100\n",
      "56/56 [==============================] - 35s 617ms/step - loss: 0.0254 - accuracy: 0.9901 - val_loss: 0.1463 - val_accuracy: 0.9635\n",
      "Epoch 94/100\n",
      "56/56 [==============================] - 34s 601ms/step - loss: 0.0320 - accuracy: 0.9896 - val_loss: 0.0679 - val_accuracy: 0.9823\n",
      "Epoch 95/100\n",
      "56/56 [==============================] - 36s 643ms/step - loss: 0.0288 - accuracy: 0.9893 - val_loss: 0.1317 - val_accuracy: 0.9701\n",
      "Epoch 96/100\n",
      "56/56 [==============================] - 34s 607ms/step - loss: 0.0181 - accuracy: 0.9932 - val_loss: 0.1181 - val_accuracy: 0.9812\n",
      "Epoch 97/100\n",
      "56/56 [==============================] - 34s 605ms/step - loss: 0.0254 - accuracy: 0.9904 - val_loss: 0.0894 - val_accuracy: 0.9690\n",
      "Epoch 98/100\n",
      "56/56 [==============================] - 34s 604ms/step - loss: 0.0223 - accuracy: 0.9918 - val_loss: 0.1106 - val_accuracy: 0.9646\n",
      "Epoch 99/100\n",
      "56/56 [==============================] - 34s 606ms/step - loss: 0.0289 - accuracy: 0.9896 - val_loss: 0.1065 - val_accuracy: 0.9668\n",
      "Epoch 100/100\n",
      "56/56 [==============================] - 34s 606ms/step - loss: 0.0170 - accuracy: 0.9941 - val_loss: 0.1213 - val_accuracy: 0.9690\n"
     ]
    }
   ],
   "source": [
    "H = model.fit_generator(aug.flow(trainX, trainY, batch_size=batch_size),\n",
    "                        validation_data=(testX,testY),\n",
    "                        steps_per_epoch=len(trainX) // batch_size,\n",
    "                        epochs=epochs, verbose=1)"
   ]
  },
  {
   "cell_type": "code",
   "execution_count": 12,
   "id": "961e12b1",
   "metadata": {},
   "outputs": [
    {
     "name": "stdout",
     "output_type": "stream",
     "text": [
      "INFO:tensorflow:Assets written to: mask_detection_v3.model\\assets\n"
     ]
    }
   ],
   "source": [
    "model.save('mask_detection_v3.model')"
   ]
  },
  {
   "cell_type": "code",
   "execution_count": 13,
   "id": "8c372ca4",
   "metadata": {},
   "outputs": [
    {
     "data": {
      "image/png": "[encoded data removed]",
      "text/plain": [
       "<Figure size 432x288 with 1 Axes>"
      ]
     },
     "metadata": {},
     "output_type": "display_data"
    }
   ],
   "source": [
    "plt.style.use(\"ggplot\")\n",
    "plt.figure()\n",
    "N = epochs\n",
    "plt.plot(np.arange(0,N), H.history[\"loss\"], label=\"train_loss\")\n",
    "plt.plot(np.arange(0,N), H.history[\"val_loss\"], label=\"val_loss\")\n",
    "plt.plot(np.arange(0,N), H.history[\"accuracy\"], label=\"train_acc\")\n",
    "plt.plot(np.arange(0,N), H.history[\"val_accuracy\"], label=\"val_acc\")\n",
    "\n",
    "plt.title(\"Training Loss and Accuracy\")\n",
    "plt.xlabel(\"Epoch #\")\n",
    "plt.ylabel(\"Loss/Accuracy\")\n",
    "plt.legend(loc=\"upper right\")\n",
    "\n",
    "# save plot to disk\n",
    "plt.savefig('plot.png')"
   ]
  },
  {
   "cell_type": "code",
   "execution_count": null,
   "id": "50eec9c0",
   "metadata": {},
   "outputs": [],
   "source": []
  }
 ],
 "metadata": {
  "kernelspec": {
   "display_name": "Python 3 (ipykernel)",
   "language": "python",
   "name": "python3"
  },
  "language_info": {
   "codemirror_mode": {
    "name": "ipython",
    "version": 3
   },
   "file_extension": ".py",
   "mimetype": "text/x-python",
   "name": "python",
   "nbconvert_exporter": "python",
   "pygments_lexer": "ipython3",
   "version": "3.8.6"
  }
 },
 "nbformat": 4,
 "nbformat_minor": 5
}
